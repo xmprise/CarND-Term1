{
 "cells": [
  {
   "cell_type": "code",
   "execution_count": null,
   "metadata": {
    "collapsed": true
   },
   "outputs": [],
   "source": [
    "import matplotlib.pyplot as plt\n",
    "import matplotlib.image as mpimg\n",
    "import numpy as np\n",
    "import cv2\n",
    "from moviepy.editor import VideoFileClip"
   ]
  },
  {
   "cell_type": "code",
   "execution_count": null,
   "metadata": {
    "collapsed": true
   },
   "outputs": [],
   "source": [
    "def gray_scale(img):\n",
    "    return cv2.cvtColor(img, cv2.COLOR_RGB2GRAY)\n",
    "\n",
    "\n",
    "def gaussian_blur(img, kernel_size):\n",
    "    return cv2.GaussianBlur(img, (kernel_size, kernel_size), 0)\n",
    "\n",
    "\n",
    "def canny(img, low_threshold, high_threshold):\n",
    "    return cv2.Canny(img, low_threshold, high_threshold)\n",
    "\n",
    "\n",
    "def region_of_interest(img, vertices):\n",
    "    mask = np.zeros_like(img)\n",
    "\n",
    "    if len(img.shape) > 2:\n",
    "        channel_count = img.shape[2]\n",
    "        ignore_mask_color = (255,) * channel_count\n",
    "    else:\n",
    "        ignore_mask_color = 255\n",
    "\n",
    "    cv2.fillPoly(mask, vertices, ignore_mask_color)\n",
    "    masked_image = cv2.bitwise_and(img, mask)\n",
    "\n",
    "    return masked_image\n",
    "\n",
    "\n",
    "def hough_lines(img, rho, theta, threshold, min_line_len, max_line_gap):\n",
    "    lines = cv2.HoughLinesP(img, rho, theta, threshold, np.array([]), minLineLength=min_line_len,\n",
    "                            maxLineGap=max_line_gap)\n",
    "    line_img = np.zeros((img.shape[0], img.shape[1], 3), dtype=np.uint8)\n",
    "    draw_lines(line_img, lines)\n",
    "\n",
    "    return line_img"
   ]
  },
  {
   "cell_type": "heading",
   "level": 1,
   "metadata": {},
   "source": [
    "Same as given sample code"
   ]
  },
  {
   "cell_type": "code",
   "execution_count": null,
   "metadata": {
    "collapsed": true
   },
   "outputs": [],
   "source": [
    "def draw_lines(img, lines, color=[255, 0, 0], thickness=10):\n",
    "\n",
    "    right_segment = []\n",
    "    left_segment = []\n",
    "    top_y = 320\n",
    "    bottom_y = img.shape[0]\n",
    "\n",
    "    for line in lines:\n",
    "        for x1, y1, x2, y2 in line:\n",
    "            if x1 == x2:\n",
    "                slope = -1\n",
    "            else:\n",
    "                slope = ((y2 - y1) / (x2 - x1))\n",
    "\n",
    "            if slope >= 0:\n",
    "                right_segment.append([x1, y1])\n",
    "                right_segment.append([x2, y2])\n",
    "\n",
    "            elif slope < 0:\n",
    "                left_segment.append([x1, y1])\n",
    "                left_segment.append([x2, y2])\n",
    "\n",
    "    if len(right_segment) > 0:\n",
    "        right_segment = np.array(right_segment)\n",
    "        right_top_x, right_bottom_x = coordinate_x(right_segment, top_y, bottom_y)\n",
    "        cv2.line(img, (right_top_x, top_y), (right_bottom_x, bottom_y), color, thickness)\n",
    "\n",
    "    if len(left_segment) > 0:\n",
    "        left_segment = np.array(left_segment)\n",
    "        left_top_x, left_bottom_x = coordinate_x(left_segment, top_y, bottom_y)\n",
    "        cv2.line(img, (left_top_x, top_y), (left_bottom_x, bottom_y), color, thickness)"
   ]
  },
  {
   "cell_type": "heading",
   "level": 1,
   "metadata": {},
   "source": [
    "To identify the direction of the slope of the points detected in the hough space, the right and left sides were divided by means of the slope.\n",
    "\n",
    "Put the determined direction into the segment list of each direction and draw a straight line in the space where the point is located.\n",
    "\n",
    "To draw a straight line of constant size, we have a fixed y value and obtain the x value by a simple linear equation"
   ]
  },
  {
   "cell_type": "code",
   "execution_count": null,
   "metadata": {
    "collapsed": true
   },
   "outputs": [],
   "source": [
    "def coordinate_x(segment, top_y, bottom_y):\n",
    "    [x1, y1, x2, y2] = cv2.fitLine(segment, cv2.cv.CV_DIST_L2, 0, 0.01, 0.01)\n",
    "\n",
    "    top_x = (top_y - (y2 - ((y1/x1) * x2))) / (y1/x1)\n",
    "    bottom_x = (bottom_y - (y2 - ((y1/x1) * x2))) / (y1/x1)\n",
    "\n",
    "    return top_x, bottom_x\n",
    "\n",
    "\n",
    "def weighted_img(img, initial_img, alpha=0.8, beta=1., gamma=0.):\n",
    "    return cv2.addWeighted(initial_img, alpha, img, beta, gamma)\n",
    "\n",
    "\n",
    "def process_image(image):\n",
    "    gray = gray_scale(image)\n",
    "\n",
    "    kernel_size = 5\n",
    "    blur_gray = gaussian_blur(gray, kernel_size)\n",
    "\n",
    "    low_threshold = 50\n",
    "    high_threshold = 150\n",
    "    edges = canny(blur_gray, low_threshold, high_threshold)\n",
    "\n",
    "    vertices = np.array([[(60, image.shape[0]), (450, 320), (900, 540), (540, 320)]], dtype=np.int32)\n",
    "    masked_edges = region_of_interest(edges, vertices)\n",
    "    rho = 1\n",
    "    theta = np.pi / 180\n",
    "    threshold = 10\n",
    "    min_line_length = 30\n",
    "    max_line_gap = 20\n",
    "    lines = hough_lines(masked_edges, rho, theta, threshold, min_line_length, max_line_gap)\n",
    "\n",
    "    weighted_image = weighted_img(image, lines)\n",
    "\n",
    "    return weighted_image"
   ]
  },
  {
   "cell_type": "heading",
   "level": 1,
   "metadata": {},
   "source": [
    "Input test case"
   ]
  },
  {
   "cell_type": "code",
   "execution_count": null,
   "metadata": {
    "collapsed": true
   },
   "outputs": [],
   "source": [
    "yellow_output = 'yellow.mp4'\n",
    "clip1 = VideoFileClip(\"solidYellowLeft.mp4\")\n",
    "yellow_clip = clip1.fl_image(process_image)\n",
    "%time yellow_clip.write_videofile(output, audio=False)"
   ]
  },
  {
   "cell_type": "code",
   "execution_count": null,
   "metadata": {
    "collapsed": true
   },
   "outputs": [],
   "source": [
    "HTML(\"\"\"\n",
    "<video width=\"960\" height=\"540\" controls>\n",
    "  <source src=\"{0}\">\n",
    "</video>\n",
    "\"\"\".format(yellow_output))"
   ]
  },
  {
   "cell_type": "heading",
   "level": 1,
   "metadata": {},
   "source": []
  }
 ],
 "metadata": {
  "kernelspec": {
   "display_name": "Python 2",
   "language": "python",
   "name": "python2"
  },
  "language_info": {
   "codemirror_mode": {
    "name": "ipython",
    "version": 2
   },
   "file_extension": ".py",
   "mimetype": "text/x-python",
   "name": "python",
   "nbconvert_exporter": "python",
   "pygments_lexer": "ipython2",
   "version": "2.7.12"
  }
 },
 "nbformat": 4,
 "nbformat_minor": 0
}
